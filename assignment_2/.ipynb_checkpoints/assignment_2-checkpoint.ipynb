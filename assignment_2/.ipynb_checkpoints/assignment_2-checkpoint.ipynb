{
 "cells": [
  {
   "cell_type": "markdown",
   "metadata": {},
   "source": [
    "Before you turn this problem in, make sure everything runs as expected. First, **restart the kernel** (in the menubar, select Kernel$\\rightarrow$Restart) and then **run all cells** (in the menubar, select Cell$\\rightarrow$Run All).\n",
    "\n",
    "Make sure you fill in any place that says `YOUR CODE HERE` or \"YOUR ANSWER HERE\", as well as your name and collaborators below:"
   ]
  },
  {
   "cell_type": "code",
   "execution_count": 1,
   "metadata": {},
   "outputs": [],
   "source": [
    "NAME = \"Jake McCoy\"\n",
    "STUDENT_NUMBER = \"1106263\"\n",
    "COLLABORATOR_NAME = \"Theo Lavandier\"\n",
    "COLLABORATOR_STUDENT_NUMBER = \"1103617\""
   ]
  },
  {
   "cell_type": "markdown",
   "metadata": {},
   "source": [
    "---"
   ]
  },
  {
   "cell_type": "markdown",
   "metadata": {},
   "source": [
    "## **Important:** When handing in your homework:\n",
    "+ Hand in the notebook (and nothing else) **named as follows**: StudentName1_snumber_StudentName2_snumber.ipynb\n",
    "+ Provide clear and complete answers to the questions below under a separate header (not hidden somewhere in your source code), and make sure to explain your answers / motivate your choices. Add Markdown cells where necessary.\n",
    "+ Source code, output graphs, derivations, etc., should be included in the notebook.\n",
    "+ Hand-in: upload to Brightspace.\n",
    "+ Include name, student number, assignment (especially in filenames)!\n",
    "+ When working in pairs only one of you should upload the assignment, and report the name of your partner in your filename.\n",
    "+ Use the Brightspace discussion board or email the student assistants for questions on how to complete the exercises.\n",
    "+ If you find mistakes/have suggestions/would like to complain about the assigment material itself, please email me [Roel] at `Roel.Bouman@ru.nl`\n",
    "+ Do not remove any cells in the notebook, else this might break the auto-grading system. **An invalid notebook will mean a severe reduction in your grade!**\n",
    "+ Only type your answers in those places where they are asked.\n",
    "+ Remove any \"raise NotImplementedError()\" statements in the cells you answered."
   ]
  },
  {
   "cell_type": "markdown",
   "metadata": {
    "deletable": false,
    "editable": false,
    "nbgrader": {
     "cell_type": "markdown",
     "checksum": "00ddcc2b7b852293141f92dca7b9d2f1",
     "grade": false,
     "grade_id": "cell-38205290cd395f44",
     "locked": true,
     "schema_version": 3,
     "solution": false,
     "task": false
    }
   },
   "source": [
    "# Assignment 2\n",
    "\n",
    "## Objective of this assignment\n",
    "The objective of this assignment is to get an understanding of the many ways data can be visualized. Upon completing this exercise you should be familiar with histograms, boxplots and scatter plots.\n",
    "\n",
    "## Advised Reading and Exercise Material\n",
    "**The following reading material is recommended:**\n",
    "\n",
    "- Pang-Ning Tan, Michael Steinbach, and Vipin Kumar, *Introduction to Data Mining*, section 3.3\n",
    "- Jonathon Shlens, *A tutorial on Principal Component Analysis* , https://arxiv.org/abs/1404.1100\n",
    "\n",
    "\n",
    "## 2.1 Visualizing and preprocessing wine data (4.5 points)\n",
    "\n",
    "In this part of the exercise we will consider two data sets related to red and white variants of the Portuguese \"Vinho Verde\" wine[1]. The data has been downloaded from http://archive.ics.uci.edu/ml/datasets/Wine+Quality. Only physicochemical and sensory attributes are available, i.e., there is no data about grape types, wine brand, wine selling price, etc. The data has the following attributes:\n",
    "\n",
    "| #   |  Attribute      | Unit |\n",
    "| --- |:--------------- |:---- |\n",
    "| 1   | Fixed acidity (tartaric) | g/dm3 |\n",
    "| 2   | Volatile acidity (acetic) | g/dm3 |\n",
    "| 3   | Citric acid | g/dm3 |\n",
    "| 4   | Residual sugar | g/dm3 |\n",
    "| 5   | Chlorides | g/dm3 |\n",
    "| 6   | Free sulfur dioxide | mg/dm3 |\n",
    "| 7   | Total sulfur dioxide | mg/dm3 |\n",
    "| 8   | Density | g/cm3 |\n",
    "| 9   | pH | pH |\n",
    "| 10  | Sulphates | g/dm3 |\n",
    "| 11  | Alcohol | % vol. |\n",
    "| 12  | Quality score | 0-10 |\n",
    "\n",
    "Attributes 1-11 are based on physicochemical tests and attribute 12 on human judging. The data set has many observations that can be considered outliers and in order to carry out analyses it is important to remove the corrupt observations.\n",
    "\n",
    "The aim of this exercise is to use visualization to identify outliers and remove these outliers from the data. It might be necessary to remove some outliers before other outlying observations become visible. Thus, the process of finding and removing outliers is often iterative. The wine data is stored in a MATLAB file, `./data/wine.mat`\n",
    "\n",
    "*This exercise is based upon material kindly provided by the Cognitive System Section, DTU Compute,\n",
    "http://cogsys.compute.dtu.dk. Any sale or commercial distribution is strictly forbidden.*\n",
    "\n",
    "2.1.1a) (0.5 point)\n",
    "> Load the data into Python using the `scipy.io.loadmat()` function. Save the numerical data, so the value associated with the key `X`, to a variable called `wine_data`.\n",
    "\n",
    "**Helpful tips:**\n",
    " + *The object in wine.mat is a dictionary, see: https://www.w3schools.com/python/python_dictionaries.asp. The attributes are stored in matrix `X`. Attribute names and class names are stored in the `attributeNames` object, which contain arrays, of which the first element contains the names*\n",
    "\n",
    "\n",
    "**Make sure to take a look at the documentation of functions before you try and use them!**\n"
   ]
  },
  {
   "cell_type": "code",
   "execution_count": 2,
   "metadata": {
    "deletable": false,
    "nbgrader": {
     "cell_type": "code",
     "checksum": "832fe34cbdacff96cf61301c0c5c67b1",
     "grade": false,
     "grade_id": "cell-63b79c3ac1d56f98",
     "locked": false,
     "schema_version": 3,
     "solution": true,
     "task": false
    }
   },
   "outputs": [],
   "source": [
    "##Answer to question 2.1.1a\n",
    "#Import the data here\n",
    "import scipy.io\n",
    "\n",
    "data = scipy.io.loadmat('./data/wine.mat')\n",
    "\n",
    "wine_data = data['X']\n",
    "attributes = data['attributeNames']\n"
   ]
  },
  {
   "cell_type": "code",
   "execution_count": 3,
   "metadata": {
    "deletable": false,
    "editable": false,
    "nbgrader": {
     "cell_type": "code",
     "checksum": "5aa370170950ca996be8d99e8f5338c0",
     "grade": true,
     "grade_id": "cell-a4958a81e35d109b",
     "locked": true,
     "points": 50,
     "schema_version": 3,
     "solution": false,
     "task": false
    }
   },
   "outputs": [
    {
     "data": {
      "text/plain": [
       "'DO NOT MODIFY THIS CELL'"
      ]
     },
     "execution_count": 3,
     "metadata": {},
     "output_type": "execute_result"
    }
   ],
   "source": [
    "\"\"\"Checks whether 2.1.1a output is correct\"\"\"\n",
    "\"\"\"DO NOT MODIFY THIS CELL\"\"\""
   ]
  },
  {
   "cell_type": "markdown",
   "metadata": {
    "deletable": false,
    "editable": false,
    "nbgrader": {
     "cell_type": "markdown",
     "checksum": "1f5474135309b1d63e802a464dcec50d",
     "grade": false,
     "grade_id": "cell-34bbc2d916e54b99",
     "locked": true,
     "schema_version": 3,
     "solution": false,
     "task": false
    }
   },
   "source": [
    "2.1.1b) (1.5pts)\n",
    "> This data set contains many observations that can be considered outliers. Plot a box plot and a histogram for each attribute to visualize the outliers in the data set. Use subplotting to nicely visualize these plots. Add titles to each subplot so it's easy to see which attribute is depicted where. Make sure that each attribute is visualized on an applicable scale.\n",
    "\n",
    "**Helpful tip:**\n",
    " + *You can use the function `matplotlib.pyplot.subplots()` to plot several plots in one figure. A simple example an be found at: https://matplotlib.org/2.0.2/examples/pylab_examples/subplots_demo.html, take a look at the 2D subplot specifically. There is also an example of a subplot in the first assignment. If you're handy, you can, and should, devise a for loop which fills up the subplot area!* \n",
    "\n",
    "\n",
    "**Make sure to take a look at the documentation of functions before you try and use them!**"
   ]
  },
  {
   "cell_type": "code",
   "execution_count": 4,
   "metadata": {
    "deletable": false,
    "nbgrader": {
     "cell_type": "code",
     "checksum": "a6ea9dc4a1031ca88aee1d3c267098f1",
     "grade": true,
     "grade_id": "cell-c816016e58d4c51d",
     "locked": false,
     "points": 100,
     "schema_version": 3,
     "solution": true,
     "task": false
    }
   },
   "outputs": [
    {
     "data": {
      "image/png": "[encoded data removed]",
      "text/plain": [
       "<Figure size 1440x3600 with 24 Axes>"
      ]
     },
     "metadata": {
      "needs_background": "light"
     },
     "output_type": "display_data"
    }
   ],
   "source": [
    "import matplotlib.pyplot as plt\n",
    "\n",
    "fig,ax = plt.subplots(12,2, figsize=(20,50))\n",
    "\n",
    "for x in range(12):\n",
    "    #Plot the box plot of the given data\n",
    "    ax[x][0].boxplot(wine_data[:,x])\n",
    "    #Apply attribute names\n",
    "    ax[x][0].set_title(attributes[0][x][0])\n",
    "    \n",
    "    #Plot the histogram with the given data\n",
    "    ax[x][1].hist(wine_data[:,x])\n",
    "    #Apply attribute names\n",
    "    ax[x][1].set_title(attributes[0][x][0])\n",
    "    \n",
    "plt.show()"
   ]
  },
  {
   "cell_type": "markdown",
   "metadata": {
    "deletable": false,
    "editable": false,
    "nbgrader": {
     "cell_type": "markdown",
     "checksum": "263e08a5aa4ae0e9c60b6c8bed797ed6",
     "grade": false,
     "grade_id": "cell-44b298933a96e141",
     "locked": true,
     "schema_version": 3,
     "solution": false,
     "task": false
    }
   },
   "source": [
    "From prior knowledge we expect volatile acidity to be around 0-2 g/dm3, density to be close to 1 g/cm3, and alcohol percentage to be somewhere between 5-20% vol. We can safely identify the outliers for these attributes, searching for the values, which are a factor of 10 greater than the largest we expect. In the case of alcohol, we will **set the limit not to a factor 10, but to what is physically possible.** \n",
    "\n",
    "2.1.2a) (0.5pts)\n",
    "> Identify outliers for volatile acidity, density, and alcohol percentage, all based on the criteria above, and remove them from the data set. This means that you should remove the entire sample from the dataset, not just for that attribute!. Save the filtered data to `wine_data_filtered`. After filtering your data, standardize the data. Save your standardized and filtered data to `wine_data_filtered_standardized`.\n",
    "\n",
    "**Helpful tips:**\n",
    " + *You can use logical indexing to easily make a new dataset, where the outliers are removed. This is much easier, and faster than methods like dropping, or selecting using a for loop or list comprehension. For more information, see: https://docs.scipy.org/doc/numpy-1.13.0/user/basics.indexing.html Take a look at the -Boolean or \"mask\" index arrays- section.*\n",
    " + *It is advisable to perform some sanity checks when removing parts of the data. Check for yourself how many samples are removed in each filtering step!*\n",
    " + *For standardization, use the StandardScaler included in the scikit-learn package, see: https://scikit-learn.org/stable/modules/generated/sklearn.preprocessing.StandardScaler.html. This is initially not the easiest way to standardize data, but it will save a lot of time in future experiments and your own project if you master the scikit-learn API!*"
   ]
  },
  {
   "cell_type": "code",
   "execution_count": null,
   "metadata": {
    "deletable": false,
    "nbgrader": {
     "cell_type": "code",
     "checksum": "6b0e31ed60c852cf76ba6c7cde12f7fd",
     "grade": false,
     "grade_id": "cell-94f8603d1938ea58",
     "locked": false,
     "schema_version": 3,
     "solution": true,
     "task": false
    }
   },
   "outputs": [],
   "source": [
    "from sklearn.preprocessing import StandardScaler\n",
    "\"\"\"\n",
    "#Volatile Acid between 0-2 g/dm3\n",
    "no_out_1 = wine_data[(wine_data[:,1] < 10)]\n",
    "print(no_out_1)\n",
    "wine_data = no_out_1\n",
    "\n",
    "no_out_2 = wine_data[wine_data[:,7] < 15]\n",
    "#print(no_out_2)\n",
    "wine_data = no_out_2\n",
    "\n",
    "no_out_3 = wine_data[wine_data[:,10] < 50]\n",
    "#print(no_out_3)\n",
    "wine_data = no_out_3\n",
    "\n",
    "#wine_data_filtered = wine_data\n",
    "\"\"\"\n",
    "import numpy as np\n",
    "\n",
    "wine_data_filtered = wine_data\n",
    "numberOfRows = wine_data.shape[0]\n",
    "currentRow = 0\n",
    "\n",
    "while(currentRow < numberOfRows):\n",
    "    if (wine_data_filtered[currentRow,1] > 10):\n",
    "        #wine_data_filtered = np.delete(wine_data_filtered, (currentRow), 0)\n",
    "        np.delete(wine_data_filtered, (currentRow), 0)\n",
    "    elif (wine_data_filtered[currentRow,7] > 15):\n",
    "        #wine_data_filtered = np.delete(wine_data_filtered, (currentRow), 0)\n",
    "        np.delete(wine_data_filtered, (currentRow), 0)\n",
    "    elif (wine_data_filtered[currentRow,10] > 50):\n",
    "        #wine_data_filtered = np.delete(wine_data_filtered, (currentRow), 0)\n",
    "        np.delete(wine_data_filtered, (currentRow), 0)\n",
    "    else:\n",
    "        currentRow += 1\n",
    "                    \n",
    "    numberOfRows = wine_data_filtered.shape[0] \n",
    "        \n",
    "\n",
    "scaler = StandardScaler()\n",
    "wine_data_filtered_standardized = scaler.fit_transform(wine_data_filtered)\n"
   ]
  },
  {
   "cell_type": "code",
   "execution_count": null,
   "metadata": {
    "deletable": false,
    "editable": false,
    "nbgrader": {
     "cell_type": "code",
     "checksum": "8233d190d1fca08e75db908e571745ca",
     "grade": true,
     "grade_id": "cell-294b5268ea1d4e01",
     "locked": true,
     "points": 50,
     "schema_version": 3,
     "solution": false,
     "task": false
    }
   },
   "outputs": [],
   "source": [
    "\"\"\"Checks whether 2.1.2a output is correct\"\"\"\n",
    "\"\"\"DO NOT MODIFY THIS CELL\"\"\""
   ]
  },
  {
   "cell_type": "markdown",
   "metadata": {
    "deletable": false,
    "editable": false,
    "nbgrader": {
     "cell_type": "markdown",
     "checksum": "49beb1fa8acfaf5a4ffc11cff4c8d25c",
     "grade": false,
     "grade_id": "cell-a8165ba37176e67d",
     "locked": true,
     "schema_version": 3,
     "solution": false,
     "task": false
    }
   },
   "source": [
    "2.1.2b) (1 pt)\n",
    "> Plot new box plots and histograms for these three attributes with the outliers removed and compare them (side to side in a plot) with the corresponding attributes in the original, unfiltered, data."
   ]
  },
  {
   "cell_type": "code",
   "execution_count": null,
   "metadata": {
    "deletable": false,
    "nbgrader": {
     "cell_type": "code",
     "checksum": "b17475c7a39fab55e44e563a5e7ed02f",
     "grade": true,
     "grade_id": "cell-5e75790e0ae7e5a0",
     "locked": false,
     "points": 100,
     "schema_version": 3,
     "solution": true,
     "task": false
    }
   },
   "outputs": [],
   "source": [
    "displayThese = [1,7,10]\n",
    "\n",
    "#newFig, newAx = plt.subplots(3, 2, figsize=(20,50))\n",
    "for i in displayThese: \n",
    "    currentAttribute = attributes[0][i][0]\n",
    "    newFig, newAx = plt.subplots(2, 2, figsize=(20,50))\n",
    "    newAx[0][0].hist(wine_data[:,i])\n",
    "    newAx[0][0].set_title(str(currentAttribute) + \" - unfiltered histogram\")\n",
    "    newAx[0][1].boxplot(wine_data[:,i])\n",
    "    newAx[0][1].set_title(str(currentAttribute)  + \" - unfiltered boxplot\")\n",
    "    \n",
    "    newAx[1][0].hist(wine_data_filtered_standardized[:,i])\n",
    "    newAx[1][0].set_title(str(currentAttribute) + \" - filtered histogram\")\n",
    "    newAx[1][1].boxplot(wine_data_filtered_standardized[:,i])\n",
    "    newAx[1][1].set_title(str(currentAttribute)  + \" - filtered boxplot\")\n",
    "    \n",
    "    plt.show()\n",
    "\n"
   ]
  },
  {
   "cell_type": "markdown",
   "metadata": {
    "deletable": false,
    "editable": false,
    "nbgrader": {
     "cell_type": "markdown",
     "checksum": "5baedb38e070cabdbadea52f210d026e",
     "grade": false,
     "grade_id": "cell-040ffdaf6b310acd",
     "locked": true,
     "schema_version": 3,
     "solution": false,
     "task": false
    }
   },
   "source": [
    "2.1.3 (0.5pts)\n",
    "> Why do we need to standardize the data after removing the outliers, as opposed to before removing the outliers? Give the -statistical- reason, not just the practical reason."
   ]
  },
  {
   "cell_type": "markdown",
   "metadata": {
    "deletable": false,
    "nbgrader": {
     "cell_type": "markdown",
     "checksum": "be24aa4efe39ed076964f4f81f7d31aa",
     "grade": true,
     "grade_id": "cell-bd39c06cf0773330",
     "locked": false,
     "points": 50,
     "schema_version": 3,
     "solution": true,
     "task": false
    }
   },
   "source": [
    "Standardization is used to scale the data and if the outliers in the data are removed later than the scale would be off to what the data actually represents (The scale would be off now). The standard deviations will have also changed if the outliers are taken out afterwards and the center of the data may also be off now too."
   ]
  },
  {
   "cell_type": "markdown",
   "metadata": {
    "deletable": false,
    "editable": false,
    "nbgrader": {
     "cell_type": "markdown",
     "checksum": "edf078731da978fe60fb782fed33f456",
     "grade": false,
     "grade_id": "cell-07801704868f2b1b",
     "locked": true,
     "schema_version": 3,
     "solution": false,
     "task": false
    }
   },
   "source": [
    "2.1.4 (1pt) \n",
    "> Make 11 scatter plots between all attributes and the wine quality as rated by human judges. \n",
    "\n",
    "> Can you manually identify any clear relationship between the attributes of the wine and wine quality? Which values of these attributes are associated with high quality wine? Use the correlation coefficients to substantiate your answers. Make sure to use the data where the outliers are removed. **Substantiate your answer with text.**\n",
    "\n",
    "**Helpful hint:**\n",
    "+ *You can calculate the correlation coefficient using the `scipy.stats.pearsonr()` function to measure the strength of association.*"
   ]
  },
  {
   "cell_type": "code",
   "execution_count": null,
   "metadata": {
    "deletable": false,
    "nbgrader": {
     "cell_type": "code",
     "checksum": "52953b41e9de3647006de5585f6d02a2",
     "grade": true,
     "grade_id": "cell-80599d74c8acc9c6",
     "locked": false,
     "points": 50,
     "schema_version": 3,
     "solution": true,
     "task": false
    }
   },
   "outputs": [],
   "source": [
    "for i in range(len(attribute)-1):\n",
    "    figl.append(i ** 2)\n",
    "    axsl.append(i ** 2)\n",
    "    figl[i], axsl[i] = plt.subplots()\n",
    "    axsl[i].scatter(wine_data_filtered[:,11],wine_data_filtered[:,i])\n",
    " \n",
    "    \n",
    "    axsl[i].set_title(\"Comparaison of wine quality with {}\".format(attribute[i]))\n",
    "\n",
    "    \n",
    "    axsl[i].set_xlabel('Wine quality')\n",
    "    axsl[i].set_ylabel('{}'.format(Unit[i]))\n",
    "\n",
    "    print(scipy.stats.pearsonr(wine_data_filtered[:,i],wine_data_filtered[:,11]))"
   ]
  },
  {
   "cell_type": "markdown",
   "metadata": {
    "collapsed": true,
    "deletable": false,
    "nbgrader": {
     "cell_type": "markdown",
     "checksum": "536e6563a3980556d9a033065379116d",
     "grade": true,
     "grade_id": "cell-651e1b920b0f835d",
     "locked": false,
     "points": 50,
     "schema_version": 3,
     "solution": true,
     "task": false
    }
   },
   "source": [
    "YOUR ANSWER HERE"
   ]
  },
  {
   "cell_type": "markdown",
   "metadata": {
    "collapsed": true,
    "deletable": false,
    "editable": false,
    "nbgrader": {
     "cell_type": "markdown",
     "checksum": "a7efc9785c9d45030170acc9264a862b",
     "grade": false,
     "grade_id": "cell-c58999d10036a30d",
     "locked": true,
     "schema_version": 3,
     "solution": false,
     "task": false
    }
   },
   "source": [
    "## 2.2 Visualizing the handwritten digits (4 points)\n",
    "\n",
    "In this part of the exercise we will analyse the famous *mnist* handwritten digit dataset from: http://yann.lecun.com/exdb/mnist/.\n",
    "\n",
    "2.2.1 (0.5pts)\n",
    "1. Load zipdata.mat by using the `loadmat` function. There are two data sets containing handwritten digits: *testdata* and *traindata*. Here, we will only use *traindata*. The first column in the matrix *traindata* contains the digit (class) and the last 256 columns contain the pixel values.\n",
    "2. Create the data matrix *X* and the class index vector *y* from the data. Remove the digits with the class index 2-9 from the data, so only digits belonging to the class 0 and 1 are analyzed. (remember logical indexing!) Save the data, with the other digits removed, to `X_01` and `y_01` respectively."
   ]
  },
  {
   "cell_type": "code",
   "execution_count": null,
   "metadata": {
    "deletable": false,
    "nbgrader": {
     "cell_type": "code",
     "checksum": "be6bbf9f2a44ac96ea584b4ab605d464",
     "grade": false,
     "grade_id": "cell-54c1fe9206c38675",
     "locked": false,
     "schema_version": 3,
     "solution": true,
     "task": false
    }
   },
   "outputs": [],
   "source": [
    "data = scipy.io.loadmat(\"data/zipdata.mat\")\n",
    "traindata = data['traindata']\n",
    "\n",
    "\n",
    "\n",
    "X_01 = traindata[(traindata[:,0] <= 1.)]\n",
    "y_01 = X_01[:,0]\n",
    "X_01 = np.delete(X_01, 0, 1)\n",
    "\n",
    "\n",
    "print(X_01)\n",
    "print(y_01)"
   ]
  },
  {
   "cell_type": "code",
   "execution_count": null,
   "metadata": {
    "deletable": false,
    "editable": false,
    "nbgrader": {
     "cell_type": "code",
     "checksum": "1ebc75903e0ecb77797eaabe04ec374f",
     "grade": true,
     "grade_id": "cell-d7bae0235e34232a",
     "locked": true,
     "points": 50,
     "schema_version": 3,
     "solution": false,
     "task": false
    }
   },
   "outputs": [],
   "source": [
    "\"\"\"Checks whether 2.2.1 output is correct\"\"\"\n",
    "\"\"\"DO NOT MODIFY THIS CELL\"\"\""
   ]
  },
  {
   "cell_type": "markdown",
   "metadata": {
    "deletable": false,
    "editable": false,
    "nbgrader": {
     "cell_type": "markdown",
     "checksum": "e31a75893d3c4ee039fe6bd7f55a0e42",
     "grade": false,
     "grade_id": "cell-67d40cca7282f901",
     "locked": true,
     "schema_version": 3,
     "solution": false,
     "task": false
    }
   },
   "source": [
    "PCA can be used for various things, one of which is compression. To show that we can reasonably reconstruct the digits from only fraction of the numerical information, we will compress the data to only the projection onto the first 4 Principal Components (instead of the 256 original variables).\n",
    "\n",
    "2.2.2 (0.5pts)\n",
    "1. Compute the principal components (PCA) of the data matrix `X_01`. Now, using the PCA model, create a new data matrix $Z$ by projecting $X$ onto the space spanned by the loadings $V$. The new data matrix should have 4 attributes corresponding to PC1-PC4. Save the matrix $Z$ with only 4 PCs to a variable called `Z`.\n",
    "2. Reconstruct the initial data using PC1-PC4 into a new matrix called $W$ and save it to a variable called `W`.\n",
    "\n",
    "\n",
    "> **Hints:**\n",
    "+ *See Assignment 1 if you can not recall how to compute a PCA.*\n",
    "+ *Keep in mind that numpy.linalg.svd() returns the transposed **V<sup>T</sup>** matrix as output.*\n",
    "+ *You can use **Z** = **Y** $*$ **V**[:,:4] to project the data onto the first four PCs. Don't forget that the $*$ operator does not perform matrix multiplication for numpy arrays!*\n",
    "+ *To reconstruct the data from projection you can use the following formula: **W** = **Z** $*$ **V**[:,:4]<sup>T</sup> + **μ**. Remember that **μ** is the mean we subtracted when mean-centering."
   ]
  },
  {
   "cell_type": "code",
   "execution_count": null,
   "metadata": {
    "deletable": false,
    "nbgrader": {
     "cell_type": "code",
     "checksum": "c479a1f43dcd6a7f7d924feccb1c686a",
     "grade": false,
     "grade_id": "cell-6f79d0c9fabbf9cd",
     "locked": false,
     "schema_version": 3,
     "solution": true,
     "task": false
    }
   },
   "outputs": [],
   "source": [
    "µ = np.mean(X_01, axis=0)\n",
    "\n",
    "Y = X_01 - µ\n",
    "\n",
    "U,S,V_T = np.linalg.svd(Y)\n",
    "V = V_T.T\n",
    "\n",
    "Z = np.dot(Y, V[:,:4])\n",
    "\n",
    "W = np.dot(Z, V[:,:4].T) + µ\n",
    "# YOUR CODE HERE\n",
    "print(Z)\n",
    "print(W)"
   ]
  },
  {
   "cell_type": "code",
   "execution_count": null,
   "metadata": {
    "deletable": false,
    "editable": false,
    "nbgrader": {
     "cell_type": "code",
     "checksum": "04e8dbc9c1a69120a584fa6844ff3807",
     "grade": true,
     "grade_id": "cell-5208e93f60b0b647",
     "locked": true,
     "points": 50,
     "schema_version": 3,
     "solution": false,
     "task": false
    }
   },
   "outputs": [],
   "source": [
    "\"\"\"Checks whether 2.2.2 output is correct\"\"\"\n",
    "\"\"\"DO NOT MODIFY THIS CELL\"\"\""
   ]
  },
  {
   "cell_type": "markdown",
   "metadata": {
    "deletable": false,
    "editable": false,
    "nbgrader": {
     "cell_type": "markdown",
     "checksum": "1b90a5bdfd65d9bbe01e49f9460c1134",
     "grade": false,
     "grade_id": "cell-82341bbb6abb2b7d",
     "locked": true,
     "schema_version": 3,
     "solution": false,
     "task": false
    }
   },
   "source": [
    "2.2.3 (1pts)\n",
    "> Visualize the first 10 reconstructed digits (in `W`). Show them side to side with the first 10 digits in the original data (`X_01`). \n",
    "\n",
    "**Helpful hint:**\n",
    "> You can take a look at the example code to see how you can visualize a certain digit."
   ]
  },
  {
   "cell_type": "code",
   "execution_count": null,
   "metadata": {
    "deletable": false,
    "nbgrader": {
     "cell_type": "code",
     "checksum": "3068504eea148d817f5d2fe736872b4e",
     "grade": true,
     "grade_id": "cell-c05f118c90008ec1",
     "locked": false,
     "points": 100,
     "schema_version": 3,
     "solution": true,
     "task": false
    }
   },
   "outputs": [],
   "source": [
    "import matplotlib.pyplot as plt\n",
    "import matplotlib.cm as cm\n",
    "from scipy.io import loadmat\n",
    "from numpy import reshape\n",
    "\"\"\"\n",
    "# Index of the digit to display\n",
    "i = 0\n",
    "\n",
    "# Load Matlab data file to python dict structure\n",
    "mat_data = loadmat('../data/zipdata.mat')\n",
    "\n",
    "# Extract variables of interest\n",
    "testdata = mat_data['testdata']\n",
    "X_test = testdata[:,1:]\n",
    "y_test = testdata[:,0]\n",
    "\n",
    "# Visualize the i'th digit as an image\n",
    "plt.subplot(1,1,1);\n",
    "I = reshape(X_test[i,:],(16,16))\n",
    "plt.imshow(I, extent=(0,16,0,16), cmap=cm.gray_r);\n",
    "plt.title('Digit as an image');\n",
    "plt.show()\n",
    "\n",
    "#------------------------------------------------\n",
    "\n",
    "\"\"\"\n",
    "#Answer to question 2.2.3\n",
    "#You can remove the example code for visualization if you want.\n",
    "\n",
    "I2 = reshape(X_01[9,:],(16,16))\n",
    "I3 = reshape(W[9,:],(16,16))\n",
    "\n",
    "fig, axs = plt.subplots(1,2)\n",
    "\n",
    "axs[0].imshow(I2, extent=(0,16,0,16), cmap=cm.gray_r);\n",
    "axs[0].set_title('First 10 digits of X_01');\n",
    "\n",
    "axs[1].imshow(I3, extent=(0,16,0,16), cmap=cm.gray_r);\n",
    "axs[1].set_title('First 10 digits of W');"
   ]
  },
  {
   "cell_type": "markdown",
   "metadata": {
    "deletable": false,
    "editable": false,
    "nbgrader": {
     "cell_type": "markdown",
     "checksum": "45c52f32bab1af4b61d6ad58ca9d1cbc",
     "grade": false,
     "grade_id": "cell-43720ad09cbcb298",
     "locked": true,
     "schema_version": 3,
     "solution": false,
     "task": false
    }
   },
   "source": [
    "2.2.4 (1.5pts)\n",
    "1. Make a 4-by-4 subplot of scatter plots of each possible combination projection onto PC1 to PC4 (contained in $Z$) against each other. You can leave the diagonal blank.  Plot elements belonging to different classes in different colors. Add a legend to clarify which digit is shown in which color.\n",
    "2. Make a 3-dimensional scatter plot of the projections onto the first three principal components PC1-PC3 (contained in $Z$). Plot elements belonging to different classes(0 and 1) in different colors. Add a legend to clarify which digit is shown in which color.\n",
    "\n",
    "\n",
    "**Hints:**\n",
    "\n",
    "+ *You can take a look at the example_figure.ipynb notebook (on Brightsapce) to see how you can easily plot multiple classes and color them correspondingly.* \n",
    "+ *It is advisable to make a for-loop to generate the 2D scatter plots, this saves a lot of time. It is an important skill to master if you want to easily modify your work later on, for example when correcting mistakes, or when you want to modify each plot in the same manner.* \n",
    "+ *Use Axes3D from Matplotlib to make 3D scatter plots. Make sure to read the documentation!*\n"
   ]
  },
  {
   "cell_type": "code",
   "execution_count": null,
   "metadata": {
    "deletable": false,
    "nbgrader": {
     "cell_type": "code",
     "checksum": "4712e51f9d2e30f55ab2e23876d558b3",
     "grade": true,
     "grade_id": "cell-1030141a0858d865",
     "locked": false,
     "points": 150,
     "schema_version": 3,
     "solution": true,
     "task": false
    }
   },
   "outputs": [],
   "source": [
    "#Answer to question 2.2.4\n",
    "# YOUR CODE HERE\n",
    "raise NotImplementedError()"
   ]
  },
  {
   "cell_type": "markdown",
   "metadata": {
    "deletable": false,
    "editable": false,
    "nbgrader": {
     "cell_type": "markdown",
     "checksum": "708bba226bc620dac0d745b2aed2e0ee",
     "grade": false,
     "grade_id": "cell-5344127d47d8ac99",
     "locked": true,
     "schema_version": 3,
     "solution": false,
     "task": false
    }
   },
   "source": [
    "2.2.5 (0.5pts)\n",
    "> Explain the differences between the original digits, and the reconstructed digits. What do you observe?\n",
    "\n",
    "> What can you conclude from the various scatterplots about the PCs and the way they separate the two digits?"
   ]
  },
  {
   "cell_type": "markdown",
   "metadata": {
    "deletable": false,
    "nbgrader": {
     "cell_type": "markdown",
     "checksum": "a5300b7314310ad0d1c06f42bd4574b8",
     "grade": true,
     "grade_id": "cell-7301dc8ba330095c",
     "locked": false,
     "points": 50,
     "schema_version": 3,
     "solution": true,
     "task": false
    }
   },
   "source": [
    "YOUR ANSWER HERE"
   ]
  },
  {
   "cell_type": "markdown",
   "metadata": {
    "deletable": false,
    "editable": false,
    "nbgrader": {
     "cell_type": "markdown",
     "checksum": "dec06a601da5fd0611153c53459f4c49",
     "grade": false,
     "grade_id": "cell-1d7e1a5cb55c577f",
     "locked": true,
     "schema_version": 3,
     "solution": false,
     "task": false
    }
   },
   "source": [
    "## 2.3 Probability and Statistics (1.5 points)\n",
    "The aim of this exercise is to learn how to calculate basic statistics in python.\n",
    "\n",
    "A study of a very limited population of Aliens reveals the following number of body appendages (limbs):\n",
    "<center>2,3,6,8,11,18</center>\n",
    "\n",
    "2.3.1 (0.3pts) \n",
    "> Find the mean $m$ and the standard deviation $\\sigma$ of this population. Assign them to the variables `m` and `sigma` respectively. Finally, print them.\n",
    "\n",
    "**Helpful hint:**\n",
    "+ *You can use the methods numpy.ndarray.mean() and numpy.ndarray.std() to calculate the mean and standard deviation.*"
   ]
  },
  {
   "cell_type": "code",
   "execution_count": null,
   "metadata": {
    "deletable": false,
    "nbgrader": {
     "cell_type": "code",
     "checksum": "2c0b23946a3e49f496333ba46fda0123",
     "grade": false,
     "grade_id": "cell-7037a2be999d4545",
     "locked": false,
     "schema_version": 3,
     "solution": true,
     "task": false
    }
   },
   "outputs": [],
   "source": [
    "##Answer to question 2.3.1 (0.3 points)\n",
    "m = None\n",
    "sigma = None\n",
    "\n",
    "# YOUR CODE HERE\n",
    "raise NotImplementedError()"
   ]
  },
  {
   "cell_type": "code",
   "execution_count": null,
   "metadata": {
    "deletable": false,
    "editable": false,
    "nbgrader": {
     "cell_type": "code",
     "checksum": "ca28ac33e094c4bd6233a0267fee25c9",
     "grade": true,
     "grade_id": "cell-cc4f488844f62f96",
     "locked": true,
     "points": 30,
     "schema_version": 3,
     "solution": false,
     "task": false
    }
   },
   "outputs": [],
   "source": [
    "\"\"\"Checks whether 2.3.1. output is correct\"\"\"\n",
    "\"\"\"DO NOT MODIFY THIS CELL\"\"\""
   ]
  },
  {
   "cell_type": "markdown",
   "metadata": {
    "deletable": false,
    "editable": false,
    "nbgrader": {
     "cell_type": "markdown",
     "checksum": "3cf33e1cb9c4bfc4a3628fe79f22c605",
     "grade": false,
     "grade_id": "cell-198d9607fa7959aa",
     "locked": true,
     "schema_version": 3,
     "solution": false,
     "task": false
    }
   },
   "source": [
    "2.3.2 (0.3pts) \n",
    "> List (by printing) all possible samples of two aliens without replacement, and find the mean of each sample. Do the same with samples of four aliens. Assign the means to the variables `c2_means and` `c4_means` respectively. Make sure you save the result to a numpy array.\n",
    "\n",
    "**Helpful hint:**\n",
    "+ *You can use the method itertools.combinations(v,n) to find all possible samples of a vector v taking n elements at a time.*"
   ]
  },
  {
   "cell_type": "code",
   "execution_count": null,
   "metadata": {
    "deletable": false,
    "nbgrader": {
     "cell_type": "code",
     "checksum": "c80ec25dbd158dacdccdc7676f6f1ea4",
     "grade": false,
     "grade_id": "cell-77600f1472829b4b",
     "locked": false,
     "schema_version": 3,
     "solution": true,
     "task": false
    }
   },
   "outputs": [],
   "source": [
    "##Answer to question 2.3.2 (0.3 points)\n",
    "\n",
    "c2_means = None\n",
    "c4_means = None\n",
    "\n",
    "# YOUR CODE HERE\n",
    "raise NotImplementedError()"
   ]
  },
  {
   "cell_type": "code",
   "execution_count": null,
   "metadata": {
    "deletable": false,
    "editable": false,
    "nbgrader": {
     "cell_type": "code",
     "checksum": "5d0d1ca2b2a700ca09405e691814f8d7",
     "grade": true,
     "grade_id": "cell-d097dd48d8a2aea0",
     "locked": true,
     "points": 30,
     "schema_version": 3,
     "solution": false,
     "task": false
    }
   },
   "outputs": [],
   "source": [
    "\"\"\"Checks whether 2.3.2. output is correct\"\"\"\n",
    "\"\"\"DO NOT MODIFY THIS CELL\"\"\""
   ]
  },
  {
   "cell_type": "markdown",
   "metadata": {
    "deletable": false,
    "editable": false,
    "nbgrader": {
     "cell_type": "markdown",
     "checksum": "fab9c176965efb90e5e2b397cbabf8e1",
     "grade": false,
     "grade_id": "cell-bbd3cce21365a924",
     "locked": true,
     "schema_version": 3,
     "solution": false,
     "task": false
    }
   },
   "source": [
    "> 2.3.3 (0.3pts) Each of the means above is called a sample mean. Find the mean of all the sample means (denoted by $m_x$) and the standard deviation of all the sample means (denoted by $\\sigma_x$) for both the *N=2* and *N=4* samples. Assign them to variables called `m2`, `sigma2`, `m4`, and `sigma4`.\n"
   ]
  },
  {
   "cell_type": "code",
   "execution_count": null,
   "metadata": {
    "deletable": false,
    "nbgrader": {
     "cell_type": "code",
     "checksum": "3103964ebb0d4decceb2a35442777eb8",
     "grade": false,
     "grade_id": "cell-27db2fe4ece43827",
     "locked": false,
     "schema_version": 3,
     "solution": true,
     "task": false
    }
   },
   "outputs": [],
   "source": [
    "##Answer to question 2.3.3 (0.3 points)\n",
    "m2 = None\n",
    "sigma2 = None\n",
    "m4 = None\n",
    "sigma4 = None\n",
    "# YOUR CODE HERE\n",
    "raise NotImplementedError()"
   ]
  },
  {
   "cell_type": "code",
   "execution_count": null,
   "metadata": {
    "deletable": false,
    "editable": false,
    "nbgrader": {
     "cell_type": "code",
     "checksum": "34f9945f4df1557f41914d38bba75508",
     "grade": true,
     "grade_id": "cell-99f8acc8c32126fa",
     "locked": true,
     "points": 30,
     "schema_version": 3,
     "solution": false,
     "task": false
    }
   },
   "outputs": [],
   "source": [
    "\"\"\"Checks whether 2.3.3. output is correct\"\"\"\n",
    "\"\"\"DO NOT MODIFY THIS CELL\"\"\""
   ]
  },
  {
   "cell_type": "markdown",
   "metadata": {
    "deletable": false,
    "editable": false,
    "nbgrader": {
     "cell_type": "markdown",
     "checksum": "94f897168fbf590f58a554db6d24a93d",
     "grade": false,
     "grade_id": "cell-4e9618dbe0e54662",
     "locked": true,
     "schema_version": 3,
     "solution": false,
     "task": false
    }
   },
   "source": [
    "> 2.3.4 Verify the Central Limit Theorem: (i) (0.1pts) compare the population\n",
    "mean with the mean of both sample means; (ii) (0.2pts) compare the population\n",
    "standard deviation divided by the square root of the sample size\n",
    "with the standard deviation of both sample means (i.e., does\n",
    "$\\sigma_x \\approx \\sigma/\\sqrt{N}$). BTW, a better approximation for\n",
    "small population sizes is $\\sigma_x = \\sigma / \\sqrt{N} \\times\n",
    "\\sqrt{(M-N)/(M-1)}$ with *M = 6* the size of the original"
   ]
  },
  {
   "cell_type": "markdown",
   "metadata": {
    "deletable": false,
    "nbgrader": {
     "cell_type": "markdown",
     "checksum": "18bc8e03a45c3f43aae64ecd67942a96",
     "grade": true,
     "grade_id": "cell-67cc29239f0200cd",
     "locked": false,
     "points": 30,
     "schema_version": 3,
     "solution": true,
     "task": false
    }
   },
   "source": [
    "YOUR ANSWER HERE"
   ]
  },
  {
   "cell_type": "markdown",
   "metadata": {
    "deletable": false,
    "editable": false,
    "nbgrader": {
     "cell_type": "markdown",
     "checksum": "17daf7d8bca84842850bab3f4bbcb4d8",
     "grade": false,
     "grade_id": "cell-2349e4d995965843",
     "locked": true,
     "schema_version": 3,
     "solution": false,
     "task": false
    }
   },
   "source": [
    "> 2.3.5 (0.3pts) Plot the distribution of the population and the distributions of both sample means using histograms. What happens to the shape of the sample means distribution as the sample size (N*) increases?"
   ]
  },
  {
   "cell_type": "code",
   "execution_count": null,
   "metadata": {
    "deletable": false,
    "nbgrader": {
     "cell_type": "code",
     "checksum": "4f0f19cba74a13d963ee50861804e79a",
     "grade": true,
     "grade_id": "cell-7ee15d15fce0ed05",
     "locked": false,
     "points": 20,
     "schema_version": 3,
     "solution": true,
     "task": false
    }
   },
   "outputs": [],
   "source": [
    "##Answer to question 2.3.5 \n",
    "\n",
    "# YOUR CODE HERE\n",
    "raise NotImplementedError()"
   ]
  },
  {
   "cell_type": "markdown",
   "metadata": {
    "deletable": false,
    "nbgrader": {
     "cell_type": "markdown",
     "checksum": "222fcc2a4212693a19ffe8a1f578cb8c",
     "grade": true,
     "grade_id": "cell-ff669c48a29a9451",
     "locked": false,
     "points": 10,
     "schema_version": 3,
     "solution": true,
     "task": false
    }
   },
   "source": [
    "YOUR ANSWER HERE"
   ]
  }
 ],
 "metadata": {
  "kernelspec": {
   "display_name": "Python 3 (ipykernel)",
   "language": "python",
   "name": "python3"
  },
  "language_info": {
   "codemirror_mode": {
    "name": "ipython",
    "version": 3
   },
   "file_extension": ".py",
   "mimetype": "text/x-python",
   "name": "python",
   "nbconvert_exporter": "python",
   "pygments_lexer": "ipython3",
   "version": "3.9.12"
  },
  "varInspector": {
   "cols": {
    "lenName": 16,
    "lenType": 16,
    "lenVar": 40
   },
   "kernels_config": {
    "python": {
     "delete_cmd_postfix": "",
     "delete_cmd_prefix": "del ",
     "library": "var_list.py",
     "varRefreshCmd": "print(var_dic_list())"
    },
    "r": {
     "delete_cmd_postfix": ") ",
     "delete_cmd_prefix": "rm(",
     "library": "var_list.r",
     "varRefreshCmd": "cat(var_dic_list()) "
    }
   },
   "types_to_exclude": [
    "module",
    "function",
    "builtin_function_or_method",
    "instance",
    "_Feature"
   ],
   "window_display": true
  }
 },
 "nbformat": 4,
 "nbformat_minor": 2
}
